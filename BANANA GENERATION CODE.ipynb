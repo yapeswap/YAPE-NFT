In [ ]:
from PIL import Image, ImageOps
from IPython.display import display
import random
import json
In [ ]:
### NECESSARY INFO

backgrounds = ["Lilac", "Mint", "Pink", "Grey", "Baby Blue", "Amber", "Purple Haze", "Sherbert", "Northern Lights", "Downtown", "Tag it", "Gold"] #5 types
backgroundweights = [18, 16, 14, 14, 14, 7.5, 6.5, 3, 2.5, 2.25, 1.75, 0.5]

bananas = ["Yellow", "Blue", "Green", "Red", "Pride", "Iridescent", "Gold", "Peeled", "Peeled Pickle", "Diamond", "Psychedelic", "Wonderland", "Candy Camo", "Camo", "Emerald", "Ruby","Stripes"] #7 types
bananaweights = [20.5, 19, 17.5, 16.75, 9.5, 6.5, 0.5, 1.75, 0.75, 0.25, 1.5, 1.65, 0.75, 1, 0.5, 0.35, 1.25]

mouths = ["Smirk", "Toothless", "Grrrr", "Pipe", "Doobie", "Lollipop", "Cigar", "Toothpick", "Beatnik", "Meh", "Handlebar 'stache", "Cherry Lips", "Whoops", "Trashy", "Bubblegum", "Tongue Ring", "Sulking", "The Douche", "Happy", "Outbreak", "Dystopia", "Whistle"] #7 types
mouthweights = [8, 6, 6, 4, 3, 4, 3, 6, 9, 9, 9, 9, 1, 2, 3, 5, 2, 1, 5, 0.5, 0.5, 4]

eyes = ["Bored", "Cyberpunk", "Steampunk", "Pixel", "Michelangelo", "Leonardo", "Donatello", "Raphael", "Cyclops", "Googly", "Hypno", "Stoner", "Trippy", "The Green Gaze", "Hangover", "3D", "Wazowski", "Carnival", "Flirty", "Cross-eyed", "Mysterious", "Bulge", "Yuyu", "Supastar", "Perplexed", "Geeky", "Conductor", "Bana-love", "Eye-patch"] #12 types
eyesweights = [7.5, 5.5, 1.5, 6, 4.5, 4, 4, 3.5, 2, 5.5, 5, 4.25, 3.5, 0.5, 4, 4.5, 2, 1, 5.5, 2.5, 0.5, 3.5, 0.5, 0.25, 6.5, 4.5, 2, 2.5, 3]

headgears = ["Carrot Top", "Vintage", "Tuft", "Wilma", "Spike", "Bowl", "Cotton Candy", "Toupet", "Sidewinder", "Hair Stick", "Fury", "Abu", "Deputy", "Sheriff ", "Goku", "Ryu", "Raiden", "Mullet", "Astronaut", "Goofy", "Donald Duck", "Boogie-Beanie", "Bleach", "Angry Bird", "Sporty", "Quinn", "Rapunzel", "Bonnet", "Crown", "Jester", "Tiara", "Angel", "Demon", "Ahoy", "DJ", "Dood","None"] # 28 types
headgearweights = [4.2, 3.8, 3, 3.6, 2.5, 3.7, 3.2, 4.2, 4.3, 4.2, 3.8, 3.7, 4.2, 1.9, 3.2, 2.1, 3.1, 3.5, 1.4, 4.2, 3, 2.6, 4, 0.2, 4.2, 1.7, 1, 3.8, 0.6, 0.4, 0.3, 0.75, 0.75, 3.5, 2.5, 2.9]



backgroundfiles = {
    "Lilac": "bg1",
    "Mint": "bg2",
    "Pink": "bg3",
    "Grey": "bg4",
    "Baby Blue": "bg5",
    "Amber": "bg6",
    "Purple Haze": "bg7",
    "Sherbert": "bg8",
    "Northern Lights": "bg9",
    "Downtown": "bg10",
    "Tag it": "bg11",
    "Gold": "bg12"
}

bananafiles = {
    "Yellow" : "bn1",
    "Blue" : "bn2",
    "Green" : "bn3",
    "Red" : "bn4",
    "Pride" : "bn5",
    "Iridescent" : "bn6",
    "Gold" : "bn7",
    "Peeled" : "bn8",
    "Peeled Pickle" : "bn9",
    "Diamond" : "bn10",
    "Psychedelic" : "bn11",
    "Wonderland" : "bn12",
    "Candy Camo" : "bn13",
    "Camo" : "bn14",
    "Rotten " : "bn15",
    "Dirty Naked" : "bn16",
    "Emerald" : "bn17",
    "Ruby" : "bn18",
    "Stripes" : "bn19",
}

mouthfiles = {
    
    "Smirk" : "mo1",
    "Toothless" : "mo2",
    "Grrrr" : "mo3",
    "Pipe" : "mo4",
    "Doobie" : "mo5",
    "Lollipop" : "mo6",
    "Cigar" : "mo7",
    "Toothpick" : "mo8",
    "Beatnik" : "mo9",
    "Meh" : "mo10",
    "Handlebar 'stache" : "mo11",
    "Cherry Lips" : "mo12",
    "Whoops" : "mo13",
    "Trashy" : "mo14",
    "Bubblegum" : "mo15",
    "Tongue Ring" : "mo16",
    "Sulking" : "mo17",
    "The Douche" : "mo18",
    "Happy" : "mo19",
    "Outbreak" : "mo20",
    "Dystopia" : "mo21",
    "Whistle" : "mo22"
     
}

eyefiles = {
    "Bored": "ey1",
    "Cyberpunk": "ey2",
    "Steampunk": "ey3",
    "Pixel": "ey4",
    "Michelangelo": "ey5",
    "Leonardo": "ey6",
    "Donatello": "ey7",
    "Raphael": "ey8",
    "Cyclops": "ey9",
    "Googly": "ey10",
    "Hypno": "ey11",
    "Stoner": "ey12",
    "Trippy": "ey13",
    "The Green Gaze": "ey14",
    "Hangover": "ey15",
    "3D": "ey16",
    "Wazowski": "ey17",
    "Carnival": "ey18",
    "Flirty": "ey19",
    "Cross-eyed": "ey20",
    "Mysterious": "ey21",
    "Bulge": "ey22",
    "Yuyu": "ey23",
    "Supastar": "ey24",
    "Perplexed": "ey25",
    "Geeky": "ey26",
    "Conductor": "ey27",
    "Bana-love": "ey28",
    "Eye-patch": "ey29"
}

headgearfiles = {
    "Carrot Top" : "he1",
    "Vintage" : "he2",
    "Tuft" : "he3",
    "Wilma" : "he4",
    "Spike" : "he5",
    "Bowl" : "he6",
    "Cotton Candy" : "he7",
    "Toupet" : "he8",
    "Sidewinder" : "he9",
    "Hair Stick" : "he10",
    "Fury" : "he11",
    "Abu" : "he12",
    "Deputy" : "he13",
    "Sheriff " : "he14",
    "Goku" : "he15",
    "Ryu" : "he16",
    "Raiden" : "he17",
    "Mullet" : "he18",
    "Astronaut" : "he19",
    "Goofy" : "he20",
    "Donald Duck" : "he21",
    "Boogie-Beanie" : "he22",
    "Bleach" : "he23",
    "Angry Bird" : "he24",
    "Sporty" : "he25",
    "Quinn" : "he26",
    "Rapunzel" : "he27",
    "Bonnet" : "he28",
    "Crown" : "he29",
    "Jester" : "he30",
    "Tiara" : "he31",
    "Angel" : "he32",
    "Demon" : "he33",
    "Ahoy" : "he34",
    "DJ" : "he35",
    "Dood" : "he36",
}
In [ ]:
## TRAIT GENERATION

TOTAL_BANANAS = 8888

traits = []

def createCombo():
    
    trait = {}

    trait["Background"] = random.choices(backgrounds, backgroundweights)[0]
    trait["Banana Base"] = random.choices(bananas, bananaweights)[0]
    trait["Mouth"] = random.choices(mouths, mouthweights)[0]
    trait["Eyes"] = random.choices(eyes, eyesweights)[0]
    trait["Head Gear"] = random.choices(headgears, headgearweights)[0]
    
    if trait in traits:
        return createCombo()
    else:
        return trait
    
for i in range(TOTAL_BANANAS):
    
    newtraitcombo = createCombo()
    
    traits.append(newtraitcombo)
In [ ]:
## ARE ALL BANANAS UNIQUE? I DUNNO HOW THIS WORKS BUT IT WORKS
def allUnique(x):
    seen = list()
    return not any(i in seen or seen.append(i) for i in x)

print(allUnique(traits))
In [ ]:
# ADD TOKEN IDS TO JSON

i = 0
for item in traits:
    item["tokenId"] = i
    i = i + 1
In [ ]:
# PRINT THE SHIT

print(traits)
In [ ]:
# GET TRAIT COUNTS

backgroundcounts = {}
for item in backgrounds:
    backgroundcounts[item] = 0
    
bananacounts = {}
for item in bananas:
    bananacounts[item] = 0
    
mouthcounts = {}
for item in mouths:
    mouthcounts[item] = 0
    
eyescounts = {}
for item in eyes:
    eyescounts[item] = 0
    
headgearcounts = {}
for item in headgears:
    headgearcounts[item] = 0
    
oneofonecounts = 0

signatures = [137,883,1327,1781,2528,2763,3833,5568,5858,6585,6812,7154,8412]

for banana in traits:
    if banana["tokenId"] in signatures:
        oneofonecounts += 1
    else:    
#     print(banana)
        backgroundcounts[banana["Background"]] += 1
        bananacounts[banana["Banana Base"]] += 1
        mouthcounts[banana["Mouth"]] += 1
        eyescounts[banana["Eyes"]] += 1
        headgearcounts[banana["Head Gear"]] += 1
    
print("background:", backgroundcounts)
print("banana base:", bananacounts)
print("mouth:", mouthcounts)
print("eyes:", eyescounts)
print("headgear:", headgearcounts)
print("1/1:",oneofonecounts)
In [ ]:
# WRITE METADATA TO JSON FILE

with open('traits2.json', 'w') as outfile:
    json.dump(traits, outfile, indent=4)
In [ ]:
backgroundfiles
In [ ]:
#### IMAGE GENERATION
    
for item in traits:

    im1 = Image.open(f'./Backgrounds/{backgroundfiles[item["Background"]]}.jpg').convert('RGBA')
    im2 = Image.open(f'./Bananas/{bananafiles[item["Banana Base"]]}.png').convert('RGBA')
    im3 = Image.open(f'./Mouths/{mouthfiles[item["Mouth"]]}.png').convert('RGBA')
    im4 = Image.open(f'./Eyes/{eyefiles[item["Eyes"]]}.png').convert('RGBA')
    im5 = Image.open(f'./Headgear/{headgearfiles[item["Head Gear"]]}.png').convert('RGBA')


    #Create each composite
    com1 = Image.alpha_composite(im1, im2)
    com2 = Image.alpha_composite(com1, im3)
    com3 = Image.alpha_composite(com2, im4)
    com4 = Image.alpha_composite(com3, im5)

    #Convert to RGB
    rgb_im = com4.convert('RGB')
#     display(rgb_im.resize((400,400), Image.NEAREST))

    file_name = str(item["tokenId"]) + ".jpg"
    rgb_im.save("./output/" + file_name)
    print(f'{str(item["tokenId"])} done')
In [ ]:
# READ METADATA IF YOU ALREADY HAVE A JSON FILE

with open("traitsfinal.json", 'r') as f:
        traits = json.load(f)
In [ ]:
traits[2050]
In [ ]:
flip_ids = [8057, 8835, 8880, 6612, 5788, 8333, 2173, 8704, 7351, 6671, 4847, 5575, 4864, 2418, 2944, 5845, 552, 1161, 2390, 4383, 8126, 439, 1055, 3435, 7957, 1209, 6438, 6578, 6244, 3490, 4149, 8510, 113, 7193, 5728, 4731, 810, 2949, 3158, 1475, 1242, 4137, 7112, 5852, 7845, 3493, 377, 4272, 5494, 2919, 6818, 2828, 1089, 4914, 5054, 160, 3991, 7625, 6265, 8160, 7331, 4802, 1442, 3850, 171, 3469, 193, 7171, 6328, 5852, 6504, 6639, 2637, 1918, 8607, 4460, 5257, 926, 6114, 8428, 8173, 4565, 5857, 2021, 430, 7708, 4799, 8065, 1609, 4807, 5802, 3371, 8722, 5594, 3034, 2087, 3684, 7878, 7908]
In [ ]:
for m in flip_ids:
    img = Image.open(f'./output/{str(m)}.jpg')
    im_mirror = ImageOps.mirror(img)
    im_mirror.save(f'./flipped/{str(m)}.jpg')
In [ ]:
balds = [4378, 7459, 6945, 4644, 5999, 6337, 6675, 4179, 8467, 5482, 4531, 2016, 3790, 1305, 355]

for bald in balds:
    traits[bald]["Head Gear"] = "None"
    
#### BALDS
    
for bald in balds:
    
    item = traits[bald]
    
    im1 = Image.open(f'./Backgrounds/{backgroundfiles[item["Background"]]}.jpg').convert('RGBA')
    im2 = Image.open(f'./Bananas/{bananafiles[item["Banana Base"]]}.png').convert('RGBA')
    im3 = Image.open(f'./Mouths/{mouthfiles[item["Mouth"]]}.png').convert('RGBA')
    im4 = Image.open(f'./Eyes/{eyefiles[item["Eyes"]]}.png').convert('RGBA')
#     im5 = Image.open(f'./Headgear/{headgearfiles[item["Head Gear"]]}.png').convert('RGBA')


    #Create each composite
    com1 = Image.alpha_composite(im1, im2)
    com2 = Image.alpha_composite(com1, im3)
    com3 = Image.alpha_composite(com2, im4)
#     com4 = Image.alpha_composite(com3, im5)

    #Convert to RGB
    rgb_im = com3.convert('RGB')
#     display(rgb_im.resize((400,400), Image.NEAREST))

    file_name = str(item["tokenId"]) + ".jpg"
    rgb_im.save("./balds/" + file_name)
    print(f'{str(item["tokenId"])} done')
In [ ]:

In [ ]:
madboogielogos = [ 1334, 8120, 3430, 3439, 4175, 7710, 1842, 2428, 3553, 4764, 3439 ]
In [ ]:
for logo in madboogielogos:

    im1 = Image.open(f'./output2/{logo}.jpg').convert('RGBA')
    im2 = Image.open(f'./Logo_static.png').convert('RGBA')
    com1 = Image.alpha_composite(im1, im2).convert('RGB')
    com1.save(f'./boogielogo/{logo}.jpg')
In [ ]:

In [ ]:

In [ ]:
traits
In [ ]:
with open('traitsfinal.json', 'w') as outfile:
    json.dump(traits, outfile, indent=4)
In [ ]:
